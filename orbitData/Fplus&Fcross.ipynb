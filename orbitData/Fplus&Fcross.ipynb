{
 "cells": [
  {
   "cell_type": "code",
   "execution_count": 1,
   "metadata": {},
   "outputs": [],
   "source": [
    "import pandas as pd\n",
    "import numpy as np\n",
    "import time                     #python 自带\n",
    "from astropy.time import Time   #astropy \n",
    "from astropy import units as u \n",
    "from astropy.coordinates import cartesian_to_spherical\n",
    "\n",
    "\n",
    "import matplotlib.pyplot as plt\n",
    "from mpl_toolkits.mplot3d import Axes3D\n",
    "from moviepy.video.io.bindings import mplfig_to_npimage#动图生成\n",
    "import moviepy.editor as mpy\n",
    "\n",
    "\n",
    "def randUnitVec(number):\n",
    "    phi      = np.random.rand(number,1) * 2 * np.pi  #方位角\n",
    "    costheta = np.random.rand(number,1) * 2 - 1\n",
    "    x = np.sqrt(1 - costheta**2) * np.cos(phi)\n",
    "    y = np.sqrt(1 - costheta**2) * np.sin(phi)\n",
    "    z = costheta\n",
    "    r = np.concatenate([x, y, z], axis = 1)\n",
    "    return r #(x,y,z)\n",
    "\n",
    "def vecCross(a, b):\n",
    "    e = np.zeros((3, 3, 3))\n",
    "    e[0, 1, 2] = e[1, 2, 0] = e[2, 0, 1] = 1\n",
    "    e[0, 2, 1] = e[2, 1, 0] = e[1, 0, 2] = -1\n",
    "\n",
    "    c = [np.einsum(\"i,j,ijk->k\", a[i,:],b[i,:], e) for i in range(0, len(a))]\n",
    "    return np.vstack(c) #(x,y,z)\n",
    "\n",
    "def vecDot(a, b):\n",
    "    c = [np.inner(a[i],b[i]) for i in range(0, len(a))]\n",
    "    return np.vstack(c) #(x,y,z)\n",
    "\n",
    "\n",
    "def cart2spher(r):\n",
    "    ans   =  cartesian_to_spherical(r[:,0], r[:,1], r[:,2])\n",
    "    theta = ((np.pi/2 * u.radian - ans[1][0]) ).to('deg').value\n",
    "    phi   = ans[2][0].to('deg').value\n",
    "    return theta, phi\n",
    "\n",
    "\n",
    "def transMat(ex, ey, ez):\n",
    "    c = [np.vstack([ex[i], ey[i], ez[i]]) for i in range(0, len(ex))]\n",
    "    return c\n",
    "\n",
    "\n",
    "def W2ThetaPhi(trans, NVec):\n",
    "    wt      = np.vstack([(np.inner(trans[i], NVec)).T for i in range(0, len(trans))])\n",
    "    ewt     = wt / np.linalg.norm(wt, axis=1, keepdims=True)\n",
    "    rLatLon = cartesian_to_spherical(ewt[:,0], ewt[:,1], ewt[:,2])\n",
    "    theta   = np.pi/ 2 - rLatLon[1].value  #theta\n",
    "    phi     = rLatLon[2].value # phi\n",
    "    thetaPhi= np.vstack([theta, phi]).T\n",
    "    return thetaPhi\n",
    "\n",
    "def LNZ2Psi(LVec, NVec, ezd):\n",
    "    psi = [np.arctan((vecDot(LVec, np.array([ezd[i]]) ) - vecDot(LVec, NVec) * vecDot(np.array([ezd[i]]), NVec)) \\\n",
    "                          / vecDot(NVec, vecCross(LVec, np.array([ezd[i]])))) for i in range(0, len(ezd))]\n",
    "    return np.vstack(psi)\n",
    "\n",
    "\n",
    "def Fplus1(theta, phi, psi):\n",
    "    return 1/2 * (1 + (np.cos(theta))**2) * np.cos(2 * phi) * np.cos(2 * psi) \\\n",
    "- np.cos(theta)* np.sin(2 * phi) * np.sin(2 * psi) \n",
    "\n",
    "def Fcross1(theta, phi, psi):\n",
    "    return 1/2 * (1 + (np.cos(theta))**2) * np.cos(2 * phi) * np.sin(2 * psi) \\\n",
    "+ np.cos(theta)* np.sin(2 * phi) * np.cos(2 * psi) \n",
    "\n",
    "\n",
    "def Fplus2(theta, phi, psi):\n",
    "    return 1/2 * (1 + (np.cos(theta))**2) * np.sin(2 * phi) * np.cos(2 * psi) \\\n",
    "+ np.cos(theta)* np.cos(2 * phi) * np.sin(2 * psi) \n",
    "\n",
    "def Fcross2(theta, phi, psi):\n",
    "    return 1/2 * (1 + (np.cos(theta))**2) * np.sin(2 * phi) * np.sin(2 * psi) \\\n",
    "- np.cos(theta)* np.cos(2 * phi) * np.cos(2 * psi) \n"
   ]
  },
  {
   "cell_type": "code",
   "execution_count": 2,
   "metadata": {},
   "outputs": [
    {
     "name": "stdout",
     "output_type": "stream",
     "text": [
      "[[0.85415338 0.01490044 0.51980764]] [[-0.27411539  0.52447092  0.80609615]]\n"
     ]
    }
   ],
   "source": [
    "orbitDataTAIJI  =  pd.read_csv('orbitDataTAIJI.dat', index_col = 0)  #读取csv文件\n",
    "orbitData      =  orbitDataTAIJI.loc[0:366,:]\n",
    "\n",
    "sunPX = orbitData['sunPX']\n",
    "sunPY = orbitData['sunPY']\n",
    "sunPZ = orbitData['sunPZ']\n",
    "\n",
    "earthPX = orbitData['earthPX']\n",
    "earthPY = orbitData['earthPY']\n",
    "earthPZ = orbitData['earthPZ']\n",
    "\n",
    "scp1X = orbitData['scp1X']\n",
    "scp1Y = orbitData['scp1Y']\n",
    "scp1Z = orbitData['scp1Z']\n",
    "\n",
    "scp2X = orbitData['scp2X']\n",
    "scp2Y = orbitData['scp2Y']\n",
    "scp2Z = orbitData['scp2Z']\n",
    "\n",
    "scp3X = orbitData['scp3X']\n",
    "scp3Y = orbitData['scp3Y']\n",
    "scp3Z = orbitData['scp3Z']\n",
    "\n",
    "scpX = (scp1X + scp2X + scp3X) / 3  \n",
    "scpY = (scp1Y + scp2Y + scp3Y) / 3  \n",
    "scpZ = (scp1Z + scp2Z + scp3Z) / 3  \n",
    "\n",
    "scp = (np.vstack([scpX, scpY, scpZ])).T\n",
    "scp1 = (np.vstack([scp1X, scp1Y, scp1Z])).T\n",
    "scp2 = (np.vstack([scp2X, scp2Y, scp2Z])).T\n",
    "scp3 = (np.vstack([scp3X, scp3Y, scp3Z])).T\n",
    "\n",
    "\n",
    "d12 = scp2 - scp1 \n",
    "d13 = scp3 - scp1\n",
    "xd  = d12 + d13\n",
    "\n",
    "ed12 = d12 / np.linalg.norm(d12, axis=1, keepdims=True)\n",
    "ed13 = d13 / np.linalg.norm(d13, axis=1, keepdims=True)\n",
    "\n",
    "\n",
    "exd = xd / np.linalg.norm(xd, axis=1, keepdims=True)\n",
    "ezd = vecCross(ed13, ed12)\n",
    "eyd = vecCross(ezd, exd)\n",
    "\n",
    "\n",
    "trans = transMat(exd, eyd, ezd)\n",
    "\n",
    "\n",
    "NVec = randUnitVec(1)\n",
    "LVec = randUnitVec(1)\n",
    "print(NVec, LVec)\n",
    "\n",
    "# vecDot(ezd,eyd)\n",
    "# vecDot(exd,eyd)\n",
    "# vecDot(ezd,exd)"
   ]
  },
  {
   "cell_type": "code",
   "execution_count": 3,
   "metadata": {},
   "outputs": [],
   "source": [
    "thetaPhi = W2ThetaPhi(trans, NVec)\n",
    "theta = thetaPhi[:,0]\n",
    "phi = thetaPhi[:,1]\n",
    "psi = LNZ2Psi(LVec, NVec, ezd)[:,0]\n",
    "\n",
    "####\n",
    "Fp1 = Fplus1(theta, phi, psi)\n",
    "Fc1 =  Fcross1(theta, phi, psi)\n",
    "Fp2 = Fplus2(theta, phi, psi)\n",
    "Fc2 =  Fcross2(theta, phi, psi)"
   ]
  },
  {
   "cell_type": "code",
   "execution_count": 4,
   "metadata": {},
   "outputs": [
    {
     "data": {
      "text/plain": [
       "array([[-0.50923338, -0.85454576,  0.85455265, -0.50922152],\n",
       "       [-0.48649153, -0.8656365 ,  0.8656451 , -0.48646829],\n",
       "       [-0.46526157, -0.87487637,  0.87488593, -0.46522101],\n",
       "       ...,\n",
       "       [-0.57810843, -0.8135823 ,  0.81358417, -0.5781082 ],\n",
       "       [-0.55210589, -0.83018935,  0.83019304, -0.55210339],\n",
       "       [-0.52655559, -0.84504494,  0.84505073, -0.5265482 ]])"
      ]
     },
     "execution_count": 4,
     "metadata": {},
     "output_type": "execute_result"
    }
   ],
   "source": [
    "ans = np.vstack([Fp1, Fc1, Fp2, Fc2]).T\n",
    "ans"
   ]
  }
 ],
 "metadata": {
  "hide_input": false,
  "kernelspec": {
   "display_name": "Python 3",
   "language": "python",
   "name": "python3"
  },
  "language_info": {
   "codemirror_mode": {
    "name": "ipython",
    "version": 3
   },
   "file_extension": ".py",
   "mimetype": "text/x-python",
   "name": "python",
   "nbconvert_exporter": "python",
   "pygments_lexer": "ipython3",
   "version": "3.7.3"
  },
  "latex_envs": {
   "LaTeX_envs_menu_present": true,
   "autoclose": false,
   "autocomplete": true,
   "bibliofile": "biblio.bib",
   "cite_by": "apalike",
   "current_citInitial": 1,
   "eqLabelWithNumbers": true,
   "eqNumInitial": 1,
   "hotkeys": {
    "equation": "Ctrl-E",
    "itemize": "Ctrl-I"
   },
   "labels_anchors": false,
   "latex_user_defs": false,
   "report_style_numbering": false,
   "user_envs_cfg": false
  },
  "toc": {
   "base_numbering": 1,
   "nav_menu": {},
   "number_sections": true,
   "sideBar": true,
   "skip_h1_title": false,
   "title_cell": "Table of Contents",
   "title_sidebar": "Contents",
   "toc_cell": false,
   "toc_position": {},
   "toc_section_display": true,
   "toc_window_display": false
  },
  "varInspector": {
   "cols": {
    "lenName": 16,
    "lenType": 16,
    "lenVar": 40
   },
   "kernels_config": {
    "python": {
     "delete_cmd_postfix": "",
     "delete_cmd_prefix": "del ",
     "library": "var_list.py",
     "varRefreshCmd": "print(var_dic_list())"
    },
    "r": {
     "delete_cmd_postfix": ") ",
     "delete_cmd_prefix": "rm(",
     "library": "var_list.r",
     "varRefreshCmd": "cat(var_dic_list()) "
    }
   },
   "types_to_exclude": [
    "module",
    "function",
    "builtin_function_or_method",
    "instance",
    "_Feature"
   ],
   "window_display": false
  }
 },
 "nbformat": 4,
 "nbformat_minor": 2
}
