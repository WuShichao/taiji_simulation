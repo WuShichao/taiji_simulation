{
 "cells": [
  {
   "cell_type": "markdown",
   "metadata": {},
   "source": [
    "This is a software package to generate simulating waveform data for space-borne detectors. The data includes GW source, saterlite orbits, TDI noise and etc. All copyrights are credited to Han Wenbiao ...."
   ]
  },
  {
   "cell_type": "code",
   "execution_count": 1,
   "metadata": {},
   "outputs": [],
   "source": [
    "import sympy as sp #导入sympy包中的函数\n",
    "import gravipy as gp #导入gravipy包的函数\n",
    "import numpy as np  #导入numpy包的函数\n",
    "import math\n",
    "import matplotlib\n",
    "matplotlib.use('Agg') # Must be before importing matplotlib.pyplot or pylab!\n",
    "import matplotlib.pyplot as plt\n",
    "from mpl_toolkits.mplot3d import Axes3D\n",
    "from scipy.integrate import odeint\n",
    "import smtplib\n",
    "import os\n",
    "#import os.system\n",
    "from decimal import *\n",
    "from constant import *       # 导入常数表\n",
    "from tkinter import *  # 导入图形界面"
   ]
  },
  {
   "cell_type": "markdown",
   "metadata": {},
   "source": [
    "Choose the type of gravitational wave souce one from EMRI, IMRI, SMBHB, GB, Burst"
   ]
  },
  {
   "cell_type": "code",
   "execution_count": 2,
   "metadata": {},
   "outputs": [],
   "source": [
    "from tkinter import ttk\n",
    "class App:\n",
    "    def __init__(self, master):\n",
    "        self.master = master\n",
    "        self.initWidgets()\n",
    "    def initWidgets(self):\n",
    "        # 创建Labelframe容器\n",
    "        lf = ttk.Labelframe(self.master, text='请选择波源类型',\n",
    "            padding=20)\n",
    "        lf.pack(fill=BOTH, expand=YES, padx=10, pady=10)\n",
    "        sourcelist = ['EMRI','IMRI','SMBHB','Binary','Burst']\n",
    "        i = 0\n",
    "        self.intVar = IntVar()\n",
    "        # 使用循环创建多个Radiobutton，并放入Labelframe中\n",
    "        for source in sourcelist:\n",
    "            Radiobutton(lf, text=source + '波源',\n",
    "            value=i,\n",
    "            variable=self.intVar).pack(side=LEFT)\n",
    "            i += 1    \n",
    "root = Tk()\n",
    "root.title(\"太极引力波信号仿真界面\")\n",
    "# 改变窗口图标\n",
    "root.iconbitmap('1.ico')\n",
    "App(root)\n",
    "root.mainloop()"
   ]
  },
  {
   "cell_type": "code",
   "execution_count": 3,
   "metadata": {},
   "outputs": [
    {
     "ename": "NameError",
     "evalue": "name 'sourcetype' is not defined",
     "output_type": "error",
     "traceback": [
      "\u001b[0;31m---------------------------------------------------------------------------\u001b[0m",
      "\u001b[0;31mNameError\u001b[0m                                 Traceback (most recent call last)",
      "\u001b[0;32m<ipython-input-3-aaa134efb236>\u001b[0m in \u001b[0;36m<module>\u001b[0;34m\u001b[0m\n\u001b[0;32m----> 1\u001b[0;31m \u001b[0;32mif\u001b[0m \u001b[0msourcetype\u001b[0m \u001b[0;34m==\u001b[0m \u001b[0;34m'EMRI'\u001b[0m \u001b[0;32mor\u001b[0m \u001b[0msourcetype\u001b[0m \u001b[0;34m==\u001b[0m \u001b[0;34m'IMRI'\u001b[0m\u001b[0;34m:\u001b[0m\u001b[0;34m\u001b[0m\u001b[0;34m\u001b[0m\u001b[0m\n\u001b[0m\u001b[1;32m      2\u001b[0m     \u001b[0;32mfrom\u001b[0m \u001b[0mEMRIparam\u001b[0m \u001b[0;32mimport\u001b[0m \u001b[0;34m*\u001b[0m  \u001b[0;31m# 导入引力波源的物理参数\u001b[0m\u001b[0;34m\u001b[0m\u001b[0;34m\u001b[0m\u001b[0m\n",
      "\u001b[0;31mNameError\u001b[0m: name 'sourcetype' is not defined"
     ]
    }
   ],
   "source": [
    "if sourcetype == 'EMRI' or sourcetype == 'IMRI':\n",
    "    from EMRIparam import *  # 导入引力波源的物理参数"
   ]
  },
  {
   "cell_type": "code",
   "execution_count": null,
   "metadata": {},
   "outputs": [],
   "source": [
    "Distance = 1000*MPC # set source luminosity distance"
   ]
  },
  {
   "cell_type": "code",
   "execution_count": null,
   "metadata": {},
   "outputs": [],
   "source": [
    "sourcelist = ['EMRI','IMRI','SMBHB','Binary','Burst'] # GW source list\n",
    "sourcetype = sourcelist[1] # choose one from the list\n",
    "print(sourcelist)"
   ]
  },
  {
   "cell_type": "code",
   "execution_count": null,
   "metadata": {},
   "outputs": [],
   "source": []
  },
  {
   "cell_type": "code",
   "execution_count": null,
   "metadata": {},
   "outputs": [],
   "source": []
  }
 ],
 "metadata": {
  "hide_input": false,
  "kernelspec": {
   "display_name": "Python 3",
   "language": "python",
   "name": "python3"
  },
  "language_info": {
   "codemirror_mode": {
    "name": "ipython",
    "version": 3
   },
   "file_extension": ".py",
   "mimetype": "text/x-python",
   "name": "python",
   "nbconvert_exporter": "python",
   "pygments_lexer": "ipython3",
   "version": "3.7.3"
  },
  "latex_envs": {
   "LaTeX_envs_menu_present": true,
   "autoclose": false,
   "autocomplete": true,
   "bibliofile": "biblio.bib",
   "cite_by": "apalike",
   "current_citInitial": 1,
   "eqLabelWithNumbers": true,
   "eqNumInitial": 1,
   "hotkeys": {
    "equation": "Ctrl-E",
    "itemize": "Ctrl-I"
   },
   "labels_anchors": false,
   "latex_user_defs": false,
   "report_style_numbering": false,
   "user_envs_cfg": false
  },
  "toc": {
   "base_numbering": 1,
   "nav_menu": {},
   "number_sections": true,
   "sideBar": true,
   "skip_h1_title": false,
   "title_cell": "Table of Contents",
   "title_sidebar": "Contents",
   "toc_cell": false,
   "toc_position": {},
   "toc_section_display": true,
   "toc_window_display": false
  },
  "varInspector": {
   "cols": {
    "lenName": 16,
    "lenType": 16,
    "lenVar": 40
   },
   "kernels_config": {
    "python": {
     "delete_cmd_postfix": "",
     "delete_cmd_prefix": "del ",
     "library": "var_list.py",
     "varRefreshCmd": "print(var_dic_list())"
    },
    "r": {
     "delete_cmd_postfix": ") ",
     "delete_cmd_prefix": "rm(",
     "library": "var_list.r",
     "varRefreshCmd": "cat(var_dic_list()) "
    }
   },
   "types_to_exclude": [
    "module",
    "function",
    "builtin_function_or_method",
    "instance",
    "_Feature"
   ],
   "window_display": false
  }
 },
 "nbformat": 4,
 "nbformat_minor": 2
}
