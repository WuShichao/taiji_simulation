{
 "cells": [
  {
   "cell_type": "code",
   "execution_count": 1,
   "metadata": {},
   "outputs": [],
   "source": [
    "import matplotlib.pyplot as plt\n",
    "import numpy as np\n",
    "from PSD.LISAcalPSD import LISAcalPSD1, LISAcalPSD2 \n",
    "from pycbc.types.frequencyseries import FrequencySeries"
   ]
  },
  {
   "cell_type": "markdown",
   "metadata": {},
   "source": [
    "# 参数设置"
   ]
  },
  {
   "cell_type": "code",
   "execution_count": 2,
   "metadata": {},
   "outputs": [
    {
     "name": "stdout",
     "output_type": "stream",
     "text": [
      "采样频率为2Hz，信号持续时间655356s, 时域信号采样1310712 个点\n",
      "信号中可分析最大频率为1.000000Hz\n",
      "\n",
      "采样周期，即时域分辨率为0.500000s\n",
      "信号频域的频率间隔，即频域分辨率为0.000002Hz\n"
     ]
    }
   ],
   "source": [
    "sampFreq = 2                #采样频率(Sampling frequency)，单位时间样本点个数，应大于 2f（即Nyquist频率)\n",
    "duration = 655356           #信号持续时间(duration of signal)\n",
    "\n",
    "\n",
    "n = int(duration * sampFreq)#采样点数(Sampling Number), 有时也称为信号长度(Length of Signal)\n",
    "                            #为2的幂时，快速傅里叶变化效率最高\n",
    "                            #n =  duration * sampFreqint = (duration / sampIntrvl)\n",
    "\n",
    "sampIntrvl = 1.0 / sampFreq                   #采样周期(Sampling period)，隔多少时间取样一次，或步长\n",
    "freqIntrvl = sampFreq / n                     #傅里叶变换 频率分辨率(Frequency Interval) \n",
    "                                              # freqIntrvl = 1 / duration = 1 / (n * sampIntrvl)\n",
    "                                              #            = sampFreq / n  \n",
    "        \n",
    "\n",
    "f = sampFreq/2             #信号模式的最大频率\n",
    "\n",
    "print(\"采样频率为%dHz，信号持续时间%ds, 时域信号采样%d 个点\"%(sampFreq,duration,n))\n",
    "print(\"信号中可分析最大频率为%fHz\"%f)\n",
    "print(\"\\n采样周期，即时域分辨率为%fs\"%(sampIntrvl))\n",
    "print(\"信号频域的频率间隔，即频域分辨率为%fHz\"%freqIntrvl);"
   ]
  },
  {
   "cell_type": "markdown",
   "metadata": {},
   "source": [
    "# 构建用于pyCBC的PSD频率序列"
   ]
  },
  {
   "cell_type": "code",
   "execution_count": 3,
   "metadata": {},
   "outputs": [
    {
     "name": "stderr",
     "output_type": "stream",
     "text": [
      "/Users/ysc/codes/all/matchGW/PSD/LISAcalPSD.py:40: RuntimeWarning: divide by zero encountered in true_divide\n",
      "  r = (1/ u**2) * ( (1 + np.cos(u)**2) * (1/3 - 2/u**2) + np.sin(u)**2 + 4*np.sin(u)*np.cos(u)/(u**3) )\n",
      "/Users/ysc/codes/all/matchGW/PSD/LISAcalPSD.py:40: RuntimeWarning: invalid value encountered in true_divide\n",
      "  r = (1/ u**2) * ( (1 + np.cos(u)**2) * (1/3 - 2/u**2) + np.sin(u)**2 + 4*np.sin(u)*np.cos(u)/(u**3) )\n",
      "/Users/ysc/codes/all/matchGW/PSD/LISAcalPSD.py:42: RuntimeWarning: divide by zero encountered in true_divide\n",
      "  psd1 = (8.08e-48 / ((2*np.pi*freqVec)**4) + 5.52e-41)\n",
      "/Users/ysc/codes/all/matchGW/PSD/LISAcalPSD.py:43: RuntimeWarning: divide by zero encountered in true_divide\n",
      "  psd2 = (2.88e-48 / ((2*np.pi*freqVec)**4) + 5.52e-41) / r\n",
      "/Users/ysc/codes/all/matchGW/PSD/LISAcalPSD.py:77: RuntimeWarning: divide by zero encountered in power\n",
      "  psd = ((xVec/10)**(-4) + 173 + xVec**2) * S0\n"
     ]
    }
   ],
   "source": [
    "#注意： 会有除0警告，可以忽略\n",
    "freqVec = np.linspace(0, 1, int(1/freqIntrvl))\n",
    "#构建频率序列(必须等频率间隔)，这里我们开始于0Hz(必须开始于0，否则导入pyCBC的结果不对), 结束于1Hz，频率间隔为上面的freqIntrvl\n",
    "\n",
    "#LISA PSD 模拟函数\n",
    "psd1 = LISAcalPSD1(freqVec) \n",
    "\n",
    "'''\n",
    "1. Babak, S., Fang, H., Gair, J. R., Glampedakis, K. & Hughes, S. A. Kludge’\n",
    "gravitational waveforms for a test-body orbiting a Kerr black hole. Phys.Rev. D 75, 024005 (2007).\n",
    "\n",
    "'''\n",
    "\n",
    "psd2 = LISAcalPSD2(freqVec)\n",
    "\n",
    "\n",
    "'''\n",
    "1. Sathyaprakash, B. S. & Schutz, B. F. \n",
    "Physics, Astrophysics and Cosmology with Gravitational Waves. Living Rev Relativ 12, 122004 (2009).\n",
    "\n",
    "'''\n",
    "\n",
    "#构建用于pyCBC的FrequencySeries\n",
    "psd1 = FrequencySeries(psd1, delta_f=freqIntrvl, epoch='', dtype=None, copy=True)\n",
    "psd2 = FrequencySeries(psd2, delta_f=freqIntrvl, epoch='', dtype=None, copy=True)"
   ]
  },
  {
   "cell_type": "code",
   "execution_count": 4,
   "metadata": {},
   "outputs": [
    {
     "data": {
      "image/png": "[encoded data removed]",
      "text/plain": [
       "<Figure size 432x288 with 1 Axes>"
      ]
     },
     "metadata": {
      "needs_background": "light"
     },
     "output_type": "display_data"
    }
   ],
   "source": [
    "#绘制 频率 - sqrt(PSD) 图\n",
    " \n",
    "plt.figure()\n",
    "plt.loglog(psd1.sample_frequencies, np.sqrt(psd1), label = 'LISApsd1')\n",
    "plt.loglog(psd1.sample_frequencies, np.sqrt(psd2), label = 'LISApsd2')\n",
    "\n",
    "plt.xlim(1e-5,1e0)\n",
    "plt.ylim(1e-21,1e-15)\n",
    "plt.xlabel(\"Frequency / Hz\")\n",
    "plt.ylabel(\"$\\sqrt{S_{n}(f) \\ / \\ (Hz^{-1})}$\")\n",
    "plt.legend()\n",
    "plt.show()"
   ]
  }
 ],
 "metadata": {
  "hide_input": false,
  "kernelspec": {
   "display_name": "Python 3",
   "language": "python",
   "name": "python3"
  },
  "language_info": {
   "codemirror_mode": {
    "name": "ipython",
    "version": 3
   },
   "file_extension": ".py",
   "mimetype": "text/x-python",
   "name": "python",
   "nbconvert_exporter": "python",
   "pygments_lexer": "ipython3",
   "version": "3.6.5"
  },
  "latex_envs": {
   "LaTeX_envs_menu_present": true,
   "autoclose": false,
   "autocomplete": true,
   "bibliofile": "biblio.bib",
   "cite_by": "apalike",
   "current_citInitial": 1,
   "eqLabelWithNumbers": true,
   "eqNumInitial": 1,
   "hotkeys": {
    "equation": "Ctrl-E",
    "itemize": "Ctrl-I"
   },
   "labels_anchors": false,
   "latex_user_defs": false,
   "report_style_numbering": false,
   "user_envs_cfg": false
  },
  "toc": {
   "base_numbering": 1,
   "nav_menu": {},
   "number_sections": true,
   "sideBar": true,
   "skip_h1_title": false,
   "title_cell": "Table of Contents",
   "title_sidebar": "Contents",
   "toc_cell": false,
   "toc_position": {},
   "toc_section_display": true,
   "toc_window_display": false
  },
  "varInspector": {
   "cols": {
    "lenName": 16,
    "lenType": 16,
    "lenVar": 40
   },
   "kernels_config": {
    "python": {
     "delete_cmd_postfix": "",
     "delete_cmd_prefix": "del ",
     "library": "var_list.py",
     "varRefreshCmd": "print(var_dic_list())"
    },
    "r": {
     "delete_cmd_postfix": ") ",
     "delete_cmd_prefix": "rm(",
     "library": "var_list.r",
     "varRefreshCmd": "cat(var_dic_list()) "
    }
   },
   "types_to_exclude": [
    "module",
    "function",
    "builtin_function_or_method",
    "instance",
    "_Feature"
   ],
   "window_display": false
  }
 },
 "nbformat": 4,
 "nbformat_minor": 2
}
